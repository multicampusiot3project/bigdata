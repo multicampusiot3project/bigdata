{
 "cells": [
  {
   "cell_type": "code",
   "execution_count": null,
   "id": "3402e231-4c02-49b5-94fb-52d37482d97f",
   "metadata": {},
   "outputs": [],
   "source": [
    "import se from selenium\n",
    "\n",
    "\n"
   ]
  }
 ],
 "metadata": {
  "kernelspec": {
   "display_name": "pydatavenv",
   "language": "python",
   "name": "pydatavenv"
  },
  "language_info": {
   "codemirror_mode": {
    "name": "ipython",
    "version": 3
   },
   "file_extension": ".py",
   "mimetype": "text/x-python",
   "name": "python",
   "nbconvert_exporter": "python",
   "pygments_lexer": "ipython3",
   "version": "3.9.12"
  }
 },
 "nbformat": 4,
 "nbformat_minor": 5
}
